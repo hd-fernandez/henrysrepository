{
 "cells": [
  {
   "cell_type": "markdown",
   "id": "8d7add39",
   "metadata": {},
   "source": [
    "Code assumes that data is in same directory as capstone_repo directory:  \n",
    "```\n",
    "capstone_repo  \n",
    "│   README.md  \n",
    "│   gsc_mfcc_extraction.ipynb    \n",
    "│  \n",
    "speech_commands_v0.02  \n",
    "└───backward  \n",
    "│   │   file01.wav  \n",
    "│   │   file02.wav (etc)  \n",
    "└───bed  \n",
    "│   |..etc  \n",
    "```"
   ]
  },
  {
   "cell_type": "markdown",
   "id": "e9536914",
   "metadata": {},
   "source": [
    "Version 2: MFCCs will be 20x125 and we will not calculate MFCCs for rejection class yet, just 20 keywords"
   ]
  },
  {
   "cell_type": "code",
   "execution_count": 1,
   "id": "2331b345",
   "metadata": {},
   "outputs": [],
   "source": [
    "#import libraries\n",
    "import numpy as np\n",
    "import os\n",
    "import librosa\n",
    "import time\n",
    "import pandas as pd"
   ]
  },
  {
   "cell_type": "code",
   "execution_count": 2,
   "id": "ee295c5e",
   "metadata": {},
   "outputs": [],
   "source": [
    "data_path = '../speech_commands_v0.02/'"
   ]
  },
  {
   "cell_type": "code",
   "execution_count": 3,
   "id": "b8f6d77f",
   "metadata": {},
   "outputs": [
    {
     "data": {
      "text/plain": [
       "('../speech_commands_v0.02/',\n",
       " ['backward',\n",
       "  'bed',\n",
       "  'bird',\n",
       "  'cat',\n",
       "  'dog',\n",
       "  'down',\n",
       "  'eight',\n",
       "  'five',\n",
       "  'follow',\n",
       "  'forward',\n",
       "  'four',\n",
       "  'go',\n",
       "  'happy',\n",
       "  'house',\n",
       "  'learn',\n",
       "  'left',\n",
       "  'marvin',\n",
       "  'nine',\n",
       "  'no',\n",
       "  'off',\n",
       "  'on',\n",
       "  'one',\n",
       "  'right',\n",
       "  'seven',\n",
       "  'sheila',\n",
       "  'six',\n",
       "  'stop',\n",
       "  'three',\n",
       "  'tree',\n",
       "  'two',\n",
       "  'up',\n",
       "  'visual',\n",
       "  'wow',\n",
       "  'yes',\n",
       "  'zero',\n",
       "  '_background_noise_'],\n",
       " ['.DS_Store',\n",
       "  'LICENSE',\n",
       "  'README.md',\n",
       "  'testing_list.txt',\n",
       "  'validation_list.txt'])"
      ]
     },
     "execution_count": 3,
     "metadata": {},
     "output_type": "execute_result"
    }
   ],
   "source": [
    "# get list of word directories in speech commands dataset\n",
    "list(os.walk(data_path))[0]"
   ]
  },
  {
   "cell_type": "code",
   "execution_count": 4,
   "id": "5286dc30",
   "metadata": {},
   "outputs": [],
   "source": [
    "all_words = ['backward',\n",
    "  'bed',\n",
    "  'bird',\n",
    "  'cat',\n",
    "  'dog',\n",
    "  'down',\n",
    "  'eight',\n",
    "  'five',\n",
    "  'follow',\n",
    "  'forward',\n",
    "  'four',\n",
    "  'go',\n",
    "  'happy',\n",
    "  'house',\n",
    "  'learn',\n",
    "  'left',\n",
    "  'marvin',\n",
    "  'nine',\n",
    "  'no',\n",
    "  'off',\n",
    "  'on',\n",
    "  'one',\n",
    "  'right',\n",
    "  'seven',\n",
    "  'sheila',\n",
    "  'six',\n",
    "  'stop',\n",
    "  'three',\n",
    "  'tree',\n",
    "  'two',\n",
    "  'up',\n",
    "  'visual',\n",
    "  'wow',\n",
    "  'yes',\n",
    "  'zero']"
   ]
  },
  {
   "cell_type": "code",
   "execution_count": 5,
   "id": "8f88ba77",
   "metadata": {},
   "outputs": [
    {
     "data": {
      "text/plain": [
       "20"
      ]
     },
     "execution_count": 5,
     "metadata": {},
     "output_type": "execute_result"
    }
   ],
   "source": [
    "#only these 20 words will act as keywords\n",
    "word_list = ['up','down','left', 'right', 'stop', 'go', 'yes', 'no', 'on', 'off', 'one', 'two', \n",
    "             'three', 'four', 'five', 'six', 'seven', 'eight', 'nine', 'zero']\n",
    "len(word_list)"
   ]
  },
  {
   "cell_type": "code",
   "execution_count": 6,
   "id": "64c3178d",
   "metadata": {},
   "outputs": [
    {
     "name": "stdout",
     "output_type": "stream",
     "text": [
      "['backward', 'bed', 'bird', 'cat', 'dog', 'follow', 'forward', 'happy', 'house', 'learn', 'marvin', 'sheila', 'tree', 'visual', 'wow']\n"
     ]
    },
    {
     "data": {
      "text/plain": [
       "15"
      ]
     },
     "execution_count": 6,
     "metadata": {},
     "output_type": "execute_result"
    }
   ],
   "source": [
    "#the other 15 words will be combined into one class of rejection words\n",
    "rejection_words = [i for i in all_words if i not in word_list]\n",
    "print(rejection_words)\n",
    "len(rejection_words)"
   ]
  },
  {
   "cell_type": "code",
   "execution_count": 7,
   "id": "6519027c",
   "metadata": {},
   "outputs": [],
   "source": [
    "#create base MFCC directory\n",
    "base_mfcc = 'mfccs_v2'\n",
    "if not os.path.exists(base_mfcc):\n",
    "    os.makedirs(base_mfcc)"
   ]
  },
  {
   "cell_type": "code",
   "execution_count": 8,
   "id": "f34d8c8b",
   "metadata": {},
   "outputs": [],
   "source": [
    "#create training, validation, and test directories\n",
    "if not os.path.exists(os.path.join(base_mfcc, 'training')):\n",
    "    os.makedirs(os.path.join(base_mfcc, 'training'))\n",
    "    \n",
    "if not os.path.exists(os.path.join(base_mfcc, 'validation')):\n",
    "    os.makedirs(os.path.join(base_mfcc, 'validation'))\n",
    "    \n",
    "if not os.path.exists(os.path.join(base_mfcc, 'test')):\n",
    "    os.makedirs(os.path.join(base_mfcc, 'test'))"
   ]
  },
  {
   "cell_type": "code",
   "execution_count": 9,
   "id": "b9b09d07",
   "metadata": {},
   "outputs": [],
   "source": [
    "#create subdirectories that will contain MFCCs for each word\n",
    "for directory in list(os.walk(base_mfcc))[0][1]:\n",
    "    for i in all_words:\n",
    "#         word_dir = base_mfcc + directory + '/' + i\n",
    "        word_dir = os.path.join(base_mfcc, directory, i)\n",
    "        if not os.path.exists(word_dir):\n",
    "            os.makedirs(word_dir)"
   ]
  },
  {
   "cell_type": "code",
   "execution_count": 10,
   "id": "b4aa496b",
   "metadata": {},
   "outputs": [
    {
     "data": {
      "text/plain": [
       "array(['right/a69b9b3e_nohash_0.wav', 'right/439c84f4_nohash_1.wav',\n",
       "       'right/409c962a_nohash_1.wav', 'right/dbaf8fc6_nohash_2.wav',\n",
       "       'right/a6d586b7_nohash_1.wav'], dtype='<U30')"
      ]
     },
     "metadata": {},
     "output_type": "display_data"
    },
    {
     "name": "stdout",
     "output_type": "stream",
     "text": [
      "Number of validation samples: 9981\n"
     ]
    }
   ],
   "source": [
    "#read in list of validation files\n",
    "val_path = data_path + 'validation_list.txt'\n",
    "val_list = np.loadtxt(val_path, dtype = 'str')\n",
    "display(val_list[:5])\n",
    "print('Number of validation samples:', len(val_list))"
   ]
  },
  {
   "cell_type": "code",
   "execution_count": 11,
   "id": "264221d1",
   "metadata": {},
   "outputs": [
    {
     "data": {
      "text/plain": [
       "array(['right/bb05582b_nohash_3.wav', 'right/97f4c236_nohash_2.wav',\n",
       "       'right/f2e59fea_nohash_3.wav', 'right/fdb5155e_nohash_2.wav',\n",
       "       'right/dc75148d_nohash_0.wav'], dtype='<U30')"
      ]
     },
     "metadata": {},
     "output_type": "display_data"
    },
    {
     "name": "stdout",
     "output_type": "stream",
     "text": [
      "Number of testing samples: 11005\n"
     ]
    }
   ],
   "source": [
    "#read in list of test files\n",
    "test_path = data_path + 'testing_list.txt'\n",
    "test_list = np.loadtxt(test_path, dtype = 'str')\n",
    "display(test_list[:5])\n",
    "print('Number of testing samples:', len(test_list))"
   ]
  },
  {
   "cell_type": "code",
   "execution_count": 12,
   "id": "5d6d5327",
   "metadata": {},
   "outputs": [
    {
     "name": "stdout",
     "output_type": "stream",
     "text": [
      "up\n"
     ]
    },
    {
     "name": "stderr",
     "output_type": "stream",
     "text": [
      "C:\\Users\\dylaa\\anaconda3\\lib\\site-packages\\librosa\\util\\decorators.py:88: UserWarning: Empty filters detected in mel frequency basis. Some channels will produce empty responses. Try increasing your sampling rate (and fmax) or reducing n_mels.\n",
      "  return f(*args, **kwargs)\n"
     ]
    },
    {
     "name": "stdout",
     "output_type": "stream",
     "text": [
      "down\n",
      "left\n",
      "right\n",
      "stop\n",
      "go\n",
      "yes\n",
      "no\n",
      "on\n",
      "off\n",
      "one\n",
      "two\n",
      "three\n",
      "four\n",
      "five\n",
      "six\n",
      "seven\n",
      "eight\n",
      "nine\n",
      "zero\n",
      "618.0707247257233\n"
     ]
    }
   ],
   "source": [
    "#set params for mfcc calculation\n",
    "n_fft = 256\n",
    "hop_length = 128\n",
    "\n",
    "#loop through all files, calculate MFCCs, save them to the appropriate directory\n",
    "start = time.time()\n",
    "\n",
    "#GSC is sampled at 16000Hz\n",
    "sample_rate = 16000\n",
    "\n",
    "for i in word_list:\n",
    "    #move to the directory for the ith word\n",
    "    working_path = os.path.join(data_path, i)\n",
    "    print(i)\n",
    "    \n",
    "    #loop through each file in the word's directory\n",
    "    for j in os.listdir(working_path):\n",
    "        #define paths we'll need\n",
    "        word_path = i + '/' + j\n",
    "#         word_path = os.path.join(i, j)\n",
    "        file_path = data_path + word_path\n",
    "        \n",
    "\n",
    "        #load audio file\n",
    "        y, sr = librosa.load(file_path, sr = sample_rate)\n",
    "\n",
    "        #pad shorter audio clips that don't have 16000 data points\n",
    "        if (len(y) < sample_rate):\n",
    "            y = np.pad(y, (0, (sample_rate - len(y))))\n",
    "\n",
    "        #calculate MFCC\n",
    "        mfcc = librosa.feature.mfcc(y=y, sr=sr, n_fft = n_fft, hop_length = hop_length)\n",
    "\n",
    "        #define save location directory\n",
    "        word_dir = i + '_mfcc'\n",
    "\n",
    "        #set save path to either train, test, or validation\n",
    "        if word_path in test_list:\n",
    "            save_path = os.path.join(base_mfcc, 'test', i, os.path.splitext(j)[0])\n",
    "        elif word_path in val_list:\n",
    "            save_path = os.path.join(base_mfcc, 'validation', i, os.path.splitext(j)[0])\n",
    "        else:\n",
    "            save_path = os.path.join(base_mfcc, 'training', i, os.path.splitext(j)[0])\n",
    "\n",
    "        #save MFCC\n",
    "        np.save(save_path, mfcc)\n",
    "\n",
    "end = time.time()\n",
    "print(end - start)"
   ]
  },
  {
   "cell_type": "code",
   "execution_count": 13,
   "id": "227414ac",
   "metadata": {},
   "outputs": [
    {
     "data": {
      "text/plain": [
       "350"
      ]
     },
     "execution_count": 13,
     "metadata": {},
     "output_type": "execute_result"
    }
   ],
   "source": [
    "# word_path in test_list\n",
    "# test_list\n",
    "# # test_list[]\n",
    "# test_list[np.flatnonzero(np.core.defchararray.find(test_list,'down')!=-1)]\n",
    "# # 'right/bb05582b_nohash_3.wav' in test_list\n",
    "# 'down/bb05582b_nohash_3.wav' in test_list\n",
    "# data_path\n",
    "# word_path\n",
    "# len(val_list[np.flatnonzero(np.core.defchararray.find(val_list,'up')!=-1)])"
   ]
  },
  {
   "cell_type": "code",
   "execution_count": 14,
   "id": "80fc9963",
   "metadata": {},
   "outputs": [
    {
     "name": "stdout",
     "output_type": "stream",
     "text": [
      "7346 MFCCs in validation folder\n",
      "8181 MFCCs in testing folder\n",
      "61927 MFCCs in training folder\n"
     ]
    }
   ],
   "source": [
    "#let's make sure there are the right number of MFCCs in validation, test, and train\n",
    "val_count = 0\n",
    "test_count = 0\n",
    "train_count = 0\n",
    "for i in range(1,36):\n",
    "    val_count += len(list(os.walk('mfccs_v2/validation'))[i][2])\n",
    "    test_count += len(list(os.walk('mfccs_v2/test'))[i][2]) \n",
    "    train_count += len(list(os.walk('mfccs_v2/training'))[i][2])\n",
    "print(val_count, 'MFCCs in validation folder')\n",
    "print(test_count, 'MFCCs in testing folder')\n",
    "print(train_count, 'MFCCs in training folder')"
   ]
  }
 ],
 "metadata": {
  "kernelspec": {
   "display_name": "Python 3 (ipykernel)",
   "language": "python",
   "name": "python3"
  },
  "language_info": {
   "codemirror_mode": {
    "name": "ipython",
    "version": 3
   },
   "file_extension": ".py",
   "mimetype": "text/x-python",
   "name": "python",
   "nbconvert_exporter": "python",
   "pygments_lexer": "ipython3",
   "version": "3.9.7"
  }
 },
 "nbformat": 4,
 "nbformat_minor": 5
}
