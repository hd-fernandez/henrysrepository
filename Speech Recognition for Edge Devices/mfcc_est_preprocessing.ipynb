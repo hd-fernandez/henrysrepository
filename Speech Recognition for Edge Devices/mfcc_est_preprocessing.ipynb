{
 "cells": [
  {
   "cell_type": "code",
   "execution_count": 1,
   "id": "db2fb76c",
   "metadata": {},
   "outputs": [
    {
     "name": "stderr",
     "output_type": "stream",
     "text": [
      "C:\\Users\\dylaa\\anaconda3\\lib\\site-packages\\requests\\__init__.py:78: RequestsDependencyWarning: urllib3 (1.26.12) or chardet (3.0.4) doesn't match a supported version!\n",
      "  warnings.warn(\"urllib3 ({0}) or chardet ({1}) doesn't match a supported \"\n"
     ]
    }
   ],
   "source": [
    "import numpy as np\n",
    "import os\n",
    "import librosa"
   ]
  },
  {
   "cell_type": "code",
   "execution_count": 2,
   "id": "0a6b980a",
   "metadata": {},
   "outputs": [],
   "source": [
    "# test_words = ['up','down','left', 'right', 'stop', 'go', 'yes', 'no', 'on', 'off', 'one', 'two', \n",
    "#              'three', 'four', 'five', 'six', 'seven', 'eight', 'nine', 'zero']#['one', 'two', 'backward', 'forward', 'go']\n",
    "test_words = ['one', 'two', 'three', 'four', 'five', 'six', 'seven', 'eight', 'nine', 'zero',\n",
    "             'up', 'down', 'left', 'right', 'stop', 'go', 'yes', 'no', 'on', 'off']\n",
    "mfcc_path = 'mfccs_single_frame'\n",
    "train_mfcc_path = os.path.join(mfcc_path, 'training')\n",
    "val_mfcc_path = os.path.join(mfcc_path, 'validation')\n",
    "test_mfcc_path = os.path.join(mfcc_path, 'test')\n",
    "\n",
    "n_mfcc = 20\n",
    "ndim = 126"
   ]
  },
  {
   "cell_type": "code",
   "execution_count": 3,
   "id": "94fc5b23",
   "metadata": {},
   "outputs": [],
   "source": [
    "audio_path = os.path.join('..', 'speech_commands_v0.02')\n",
    "audio_length = 16000"
   ]
  },
  {
   "cell_type": "code",
   "execution_count": 5,
   "id": "3cc92698",
   "metadata": {},
   "outputs": [
    {
     "name": "stdout",
     "output_type": "stream",
     "text": [
      "Train count 61927\n",
      "Validation count 7346\n",
      "Test count 8181\n",
      "one 0\n",
      "two 0\n"
     ]
    }
   ],
   "source": [
    "train_count = 0\n",
    "val_count = 0\n",
    "test_count = 0\n",
    "count = 0\n",
    "one_count = 0 \n",
    "two_count = 0\n",
    "for i in [train_mfcc_path, val_mfcc_path, test_mfcc_path]:\n",
    "    for j in test_words:\n",
    "        word_path = os.path.join(i, j)\n",
    "        count += len(os.listdir(word_path))\n",
    "    if (i == train_mfcc_path):\n",
    "        train_count = count\n",
    "    elif (i == val_mfcc_path):\n",
    "        val_count = count\n",
    "    else:\n",
    "        test_count = count\n",
    "    count = 0\n",
    "print('Train count', train_count)\n",
    "print('Validation count', val_count)\n",
    "print('Test count', test_count)\n",
    "print('one', one_count)\n",
    "print('two', two_count)"
   ]
  },
  {
   "cell_type": "code",
   "execution_count": 8,
   "id": "008011c2",
   "metadata": {},
   "outputs": [
    {
     "name": "stdout",
     "output_type": "stream",
     "text": [
      "3140\n",
      "3111\n",
      "2966\n",
      "2955\n",
      "3240\n",
      "3088\n",
      "3205\n",
      "3033\n",
      "3170\n",
      "3250\n",
      "2948\n",
      "3134\n",
      "3037\n",
      "3019\n",
      "3111\n",
      "3106\n",
      "3228\n",
      "3130\n",
      "3086\n",
      "2970\n"
     ]
    }
   ],
   "source": [
    "train_mfcc = np.zeros(shape=(train_count, n_mfcc, ndim))\n",
    "val_mfcc = np.zeros(shape=(val_count, n_mfcc, ndim))\n",
    "test_mfcc = np.zeros(shape=(test_count, n_mfcc, ndim))\n",
    "one_count = 0\n",
    "two_count = 0\n",
    "three_count = 0\n",
    "four_count = 0\n",
    "five_count = 0\n",
    "six_count = 0\n",
    "seven_count = 0\n",
    "eight_count = 0\n",
    "nine_count = 0\n",
    "zero_count = 0\n",
    "up_count = 0\n",
    "down_count = 0\n",
    "left_count = 0\n",
    "right_count = 0\n",
    "stop_count = 0\n",
    "go_count = 0\n",
    "yes_count = 0\n",
    "no_count = 0\n",
    "on_count = 0\n",
    "off_count = 0\n",
    "for i in [train_mfcc_path, val_mfcc_path, test_mfcc_path]:\n",
    "    idx = 0\n",
    "    for j in test_words:\n",
    "        word_path = os.path.join(i, j)\n",
    "        for k in os.listdir(word_path):\n",
    "            file = os.path.join(word_path, k)\n",
    "#             mfcc = np.load(file)\n",
    "            if (i == train_mfcc_path):\n",
    "                pass\n",
    "#                 train_mfcc[idx] = mfcc\n",
    "                if j == 'one':\n",
    "                    one_count += 1\n",
    "                elif j == 'two':\n",
    "                    two_count += 1\n",
    "                elif j == 'three':\n",
    "                    three_count += 1\n",
    "                elif j == 'four':\n",
    "                    four_count += 1\n",
    "                elif j == 'five':\n",
    "                    five_count += 1\n",
    "                elif j == 'six':\n",
    "                    six_count += 1\n",
    "                elif j == 'seven':\n",
    "                    seven_count += 1\n",
    "                elif j == 'eight':\n",
    "                    eight_count += 1\n",
    "                elif j == 'nine':\n",
    "                    nine_count += 1\n",
    "                elif j == 'zero':\n",
    "                    zero_count += 1\n",
    "                elif j == 'up':\n",
    "                    up_count += 1\n",
    "                elif j == 'down':\n",
    "                    down_count += 1\n",
    "                elif j == 'left':\n",
    "                    left_count += 1\n",
    "                elif j == 'right':\n",
    "                    right_count += 1\n",
    "                elif j == 'stop':\n",
    "                    stop_count += 1\n",
    "                elif j == 'go':\n",
    "                    go_count += 1\n",
    "                elif j == 'yes':\n",
    "                    yes_count += 1\n",
    "                elif j == 'no':\n",
    "                    no_count += 1\n",
    "                elif j == 'on':\n",
    "                    on_count += 1\n",
    "                elif j == 'off':\n",
    "                    off_count += 1\n",
    "                \n",
    "            elif (i == val_mfcc_path):\n",
    "                pass\n",
    "                #                 val_mfcc[idx] = mfcc\n",
    "            elif (i == test_mfcc_path):\n",
    "                pass\n",
    "#                 test_mfcc[idx] = mfcc\n",
    "            else:\n",
    "                print('Something is wrong', i, j, k)\n",
    "            idx += 1\n",
    "\n",
    "print(one_count)\n",
    "print(two_count)\n",
    "print(three_count)\n",
    "print(four_count)\n",
    "print(five_count)\n",
    "print(six_count)\n",
    "print(seven_count)\n",
    "print(eight_count)\n",
    "print(nine_count)\n",
    "print(zero_count)\n",
    "print(up_count)\n",
    "print(down_count)\n",
    "print(left_count)\n",
    "print(right_count)\n",
    "print(stop_count)\n",
    "print(go_count)\n",
    "print(yes_count)\n",
    "print(no_count)\n",
    "print(on_count)\n",
    "print(off_count)"
   ]
  },
  {
   "cell_type": "code",
   "execution_count": 9,
   "id": "60fd61a3",
   "metadata": {},
   "outputs": [
    {
     "data": {
      "text/plain": [
       "(61927,)"
      ]
     },
     "execution_count": 9,
     "metadata": {},
     "output_type": "execute_result"
    }
   ],
   "source": [
    "l1 = ['one']\n",
    "l1 = l1 * one_count\n",
    "l2 = ['two']\n",
    "l2 = l2 * two_count\n",
    "l3 = ['three']\n",
    "l3 = l3 * three_count\n",
    "l4 = ['four']\n",
    "l4 = l4 * four_count\n",
    "l5 = ['five']\n",
    "l5 = l5 * five_count\n",
    "\n",
    "l6 = ['six']\n",
    "l6 = l6 * six_count\n",
    "l7 = ['seven']\n",
    "l7 = l7 * seven_count\n",
    "l8 = ['eight']\n",
    "l8 = l8 * eight_count\n",
    "l9 = ['nine']\n",
    "l9 = l9 * nine_count\n",
    "l10 = ['zero']\n",
    "l10 = l10 * zero_count\n",
    "\n",
    "l11 = ['up']\n",
    "l11 = l11 * up_count\n",
    "l12 = ['down']\n",
    "l12 = l12 * down_count\n",
    "l13 = ['left']\n",
    "l13 = l13 * left_count\n",
    "l14 = ['right']\n",
    "l14 = l14 * right_count\n",
    "l15 = ['stop']\n",
    "l15 = l15 * stop_count\n",
    "\n",
    "l16 = ['go']\n",
    "l16 = l16 * go_count\n",
    "l17 = ['yes']\n",
    "l17 = l17 * yes_count\n",
    "l18 = ['no']\n",
    "l18 = l18 * no_count\n",
    "l19 = ['on']\n",
    "l19 = l19 * on_count\n",
    "l20 = ['off']\n",
    "l20 = l20 * off_count\n",
    "y_train = l1 + l2 + l3 + l4 + l5 + l6 + l7 + l8 + l9 + l10 + l11 + l12 + l13 + l14 + l15 + l16 + l17 + l18 + l19 + l20\n",
    "y_train = np.array(y_train)\n",
    "y_train.shape\n",
    "# sum(np.where(np.array(y_train) == 'two', 1, 0))"
   ]
  },
  {
   "cell_type": "code",
   "execution_count": 10,
   "id": "f6c2eb7c",
   "metadata": {},
   "outputs": [],
   "source": [
    "cwd = os.getcwd()\n",
    "# np.save(os.path.join(cwd, 'train_mfcc_sf1to5'), train_mfcc)\n",
    "# np.save(os.path.join(cwd, 'val_mfcc_sf1to5'), val_mfcc)\n",
    "# np.save(os.path.join(cwd, 'test_mfcc_sf1to5'), test_mfcc)"
   ]
  },
  {
   "cell_type": "code",
   "execution_count": 11,
   "id": "dbe0b325",
   "metadata": {},
   "outputs": [
    {
     "data": {
      "text/plain": [
       "['right/a69b9b3e_nohash_0',\n",
       " 'right/439c84f4_nohash_1',\n",
       " 'right/409c962a_nohash_1',\n",
       " 'right/dbaf8fc6_nohash_2',\n",
       " 'right/a6d586b7_nohash_1']"
      ]
     },
     "metadata": {},
     "output_type": "display_data"
    },
    {
     "name": "stdout",
     "output_type": "stream",
     "text": [
      "Number of validation samples: 9981\n"
     ]
    }
   ],
   "source": [
    "#read in list of validation files\n",
    "val_path = os.path.join(audio_path, 'validation_list.txt')\n",
    "val_list = np.loadtxt(val_path, dtype = 'str')\n",
    "val_list = [os.path.splitext(x)[0] for x in val_list]\n",
    "display(val_list[:5])\n",
    "print('Number of validation samples:', len(val_list))"
   ]
  },
  {
   "cell_type": "code",
   "execution_count": 12,
   "id": "e9aefd1f",
   "metadata": {},
   "outputs": [
    {
     "data": {
      "text/plain": [
       "['right/bb05582b_nohash_3',\n",
       " 'right/97f4c236_nohash_2',\n",
       " 'right/f2e59fea_nohash_3',\n",
       " 'right/fdb5155e_nohash_2',\n",
       " 'right/dc75148d_nohash_0']"
      ]
     },
     "metadata": {},
     "output_type": "display_data"
    },
    {
     "name": "stdout",
     "output_type": "stream",
     "text": [
      "Number of testing samples: 11005\n"
     ]
    }
   ],
   "source": [
    "#read in list of test files\n",
    "test_path = os.path.join(audio_path, 'testing_list.txt')\n",
    "test_list = np.loadtxt(test_path, dtype = 'str')\n",
    "test_list = [os.path.splitext(x)[0] for x in test_list]\n",
    "display(test_list[:5])\n",
    "print('Number of testing samples:', len(test_list))"
   ]
  },
  {
   "cell_type": "code",
   "execution_count": 13,
   "id": "f1cc90d6",
   "metadata": {},
   "outputs": [
    {
     "name": "stdout",
     "output_type": "stream",
     "text": [
      "True\n",
      "True\n",
      "True\n"
     ]
    }
   ],
   "source": [
    "train_audio_count = 0\n",
    "val_audio_count = 0\n",
    "test_audio_count = 0\n",
    "\n",
    "for i in test_words:\n",
    "    word_path = os.path.join(audio_path, i)\n",
    "    for j in os.listdir(word_path):\n",
    "        file = os.path.splitext(j)[0]\n",
    "        file = i + '/' + file\n",
    "        if file in test_list:\n",
    "            test_audio_count += 1\n",
    "        elif file in val_list:\n",
    "            val_audio_count += 1\n",
    "        else:\n",
    "            train_audio_count += 1\n",
    "print(train_audio_count == train_count)\n",
    "print(val_audio_count == val_count)\n",
    "print(test_audio_count == test_count)"
   ]
  },
  {
   "cell_type": "code",
   "execution_count": 14,
   "id": "919139b9",
   "metadata": {},
   "outputs": [],
   "source": [
    "train_audio = np.zeros(shape=(train_audio_count, audio_length))\n",
    "val_audio = np.zeros(shape=(val_audio_count, audio_length))\n",
    "test_audio = np.zeros(shape=(test_audio_count, audio_length))\n",
    "\n",
    "val_label = np.empty(shape=(val_audio_count), dtype='<U10')\n",
    "test_label = np.empty(shape=(test_audio_count), dtype='<U10')"
   ]
  },
  {
   "cell_type": "code",
   "execution_count": 15,
   "id": "4b7f1547",
   "metadata": {},
   "outputs": [
    {
     "name": "stdout",
     "output_type": "stream",
     "text": [
      "one\n",
      "two\n",
      "three\n",
      "four\n",
      "five\n",
      "six\n",
      "seven\n",
      "eight\n",
      "nine\n",
      "zero\n",
      "up\n",
      "down\n",
      "left\n",
      "right\n",
      "stop\n",
      "go\n",
      "yes\n",
      "no\n",
      "on\n",
      "off\n"
     ]
    }
   ],
   "source": [
    "train_idx = 0\n",
    "val_idx = 0\n",
    "test_idx = 0\n",
    "for i in test_words:\n",
    "    print(i)\n",
    "    word_path = os.path.join(audio_path, i)\n",
    "    for j in os.listdir(word_path):\n",
    "        file_path = os.path.join(word_path,j)\n",
    "        y, sr= librosa.load(file_path, sr=16000) #y=np.load(file_path)\n",
    "        \n",
    "        if (len(y) < audio_length):\n",
    "            y = np.pad(y, (0, (audio_length - len(y))))\n",
    "        \n",
    "        file = os.path.splitext(j)[0]\n",
    "        file = i + '/' + file\n",
    "        if file in test_list:\n",
    "            test_label[test_idx] = i\n",
    "            test_audio[test_idx] = y\n",
    "            test_idx += 1\n",
    "        elif file in val_list:\n",
    "            val_label[val_idx] = i\n",
    "            val_audio[val_idx] = y\n",
    "            val_idx += 1\n",
    "        else:\n",
    "            train_audio[train_idx] = y\n",
    "            train_idx += 1"
   ]
  },
  {
   "cell_type": "code",
   "execution_count": 16,
   "id": "ed5bea88",
   "metadata": {},
   "outputs": [
    {
     "name": "stdout",
     "output_type": "stream",
     "text": [
      "(61927, 16000)\n",
      "(7346, 16000)\n",
      "(8181, 16000)\n",
      "\n",
      " (7346,)\n",
      "(8181,)\n"
     ]
    }
   ],
   "source": [
    "print(train_audio.shape)\n",
    "print(val_audio.shape)\n",
    "print(test_audio.shape)\n",
    "\n",
    "print(\"\\n\", val_label.shape)\n",
    "print(test_label.shape)"
   ]
  },
  {
   "cell_type": "code",
   "execution_count": 49,
   "id": "5fa0b4ed",
   "metadata": {},
   "outputs": [
    {
     "data": {
      "text/plain": [
       "0.800128"
      ]
     },
     "execution_count": 49,
     "metadata": {},
     "output_type": "execute_result"
    }
   ],
   "source": [
    "train_audio.size * train_audio.itemsize / (1e9)"
   ]
  },
  {
   "cell_type": "code",
   "execution_count": 17,
   "id": "356cdf21",
   "metadata": {},
   "outputs": [],
   "source": [
    "cwd = os.getcwd()\n",
    "np.save(os.path.join(cwd, 'train_audio_sf20'), train_audio)\n",
    "np.save(os.path.join(cwd, 'val_audio_sf20'), val_audio)\n",
    "np.save(os.path.join(cwd, 'test_audio_sf20'), test_audio)\n",
    "\n",
    "np.save(os.path.join(cwd, 'val_label_sf20'), val_label)\n",
    "np.save(os.path.join(cwd, 'test_label_sf20'), test_label)"
   ]
  },
  {
   "cell_type": "code",
   "execution_count": 18,
   "id": "b0e94ec1",
   "metadata": {},
   "outputs": [],
   "source": [
    "np.save(os.path.join(cwd, 'train_label_sf20.npy'), y_train)"
   ]
  },
  {
   "cell_type": "code",
   "execution_count": 19,
   "id": "89f55930",
   "metadata": {},
   "outputs": [
    {
     "data": {
      "text/plain": [
       "61927"
      ]
     },
     "execution_count": 19,
     "metadata": {},
     "output_type": "execute_result"
    }
   ],
   "source": [
    "len(y_train)"
   ]
  }
 ],
 "metadata": {
  "kernelspec": {
   "display_name": "Python 3 (ipykernel)",
   "language": "python",
   "name": "python3"
  },
  "language_info": {
   "codemirror_mode": {
    "name": "ipython",
    "version": 3
   },
   "file_extension": ".py",
   "mimetype": "text/x-python",
   "name": "python",
   "nbconvert_exporter": "python",
   "pygments_lexer": "ipython3",
   "version": "3.9.7"
  }
 },
 "nbformat": 4,
 "nbformat_minor": 5
}
