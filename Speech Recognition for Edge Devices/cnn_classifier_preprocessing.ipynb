{
 "cells": [
  {
   "cell_type": "code",
   "execution_count": 1,
   "id": "8f32233b",
   "metadata": {},
   "outputs": [],
   "source": [
    "import numpy as np\n",
    "import pandas as pd\n",
    "import os"
   ]
  },
  {
   "cell_type": "code",
   "execution_count": 2,
   "id": "83efb7a9",
   "metadata": {},
   "outputs": [],
   "source": [
    "#set paths\n",
    "mfcc_path = 'mfccs_single_frame'#'mfccs_v2'\n",
    "train_path = os.path.join(mfcc_path, 'training')\n",
    "val_path = os.path.join(mfcc_path, 'validation')\n",
    "test_path = os.path.join(mfcc_path, 'test')\n",
    "\n",
    "#set constants\n",
    "n_mfcc = 20\n",
    "n_dim = 126\n",
    "reject_label = 'UNKNOWN'"
   ]
  },
  {
   "cell_type": "code",
   "execution_count": 3,
   "id": "5be0a1c3",
   "metadata": {},
   "outputs": [],
   "source": [
    "all_words = list(os.listdir(train_path))"
   ]
  },
  {
   "cell_type": "code",
   "execution_count": 4,
   "id": "9afa8427",
   "metadata": {},
   "outputs": [],
   "source": [
    "#20 keywords to recognize\n",
    "keywords = ['up','down','left', 'right', 'stop', 'go', 'yes', 'no', 'on', 'off', 'one', 'two', \n",
    "             'three', 'four', 'five', 'six', 'seven', 'eight', 'nine', 'zero']\n",
    "\n",
    "#all other words will be rejection class\n",
    "rejection_words = [i for i in all_words if i not in keywords]"
   ]
  },
  {
   "cell_type": "code",
   "execution_count": 5,
   "id": "a2e2c59d",
   "metadata": {},
   "outputs": [
    {
     "name": "stdout",
     "output_type": "stream",
     "text": [
      "backward\n",
      "bed\n",
      "bird\n",
      "cat\n",
      "dog\n",
      "down\n",
      "eight\n",
      "five\n",
      "follow\n",
      "forward\n",
      "four\n",
      "go\n",
      "happy\n",
      "house\n",
      "learn\n",
      "left\n",
      "marvin\n",
      "nine\n",
      "no\n",
      "off\n",
      "on\n",
      "one\n",
      "right\n",
      "seven\n",
      "sheila\n",
      "six\n",
      "stop\n",
      "three\n",
      "tree\n",
      "two\n",
      "up\n",
      "visual\n",
      "wow\n",
      "yes\n",
      "zero\n",
      "backward\n",
      "bed\n",
      "bird\n",
      "cat\n",
      "dog\n",
      "down\n",
      "eight\n",
      "five\n",
      "follow\n",
      "forward\n",
      "four\n",
      "go\n",
      "happy\n",
      "house\n",
      "learn\n",
      "left\n",
      "marvin\n",
      "nine\n",
      "no\n",
      "off\n",
      "on\n",
      "one\n",
      "right\n",
      "seven\n",
      "sheila\n",
      "six\n",
      "stop\n",
      "three\n",
      "tree\n",
      "two\n",
      "up\n",
      "visual\n",
      "wow\n",
      "yes\n",
      "zero\n",
      "backward\n",
      "bed\n",
      "bird\n",
      "cat\n",
      "dog\n",
      "down\n",
      "eight\n",
      "five\n",
      "follow\n",
      "forward\n",
      "four\n",
      "go\n",
      "happy\n",
      "house\n",
      "learn\n",
      "left\n",
      "marvin\n",
      "nine\n",
      "no\n",
      "off\n",
      "on\n",
      "one\n",
      "right\n",
      "seven\n",
      "sheila\n",
      "six\n",
      "stop\n",
      "three\n",
      "tree\n",
      "two\n",
      "up\n",
      "visual\n",
      "wow\n",
      "yes\n",
      "zero\n"
     ]
    },
    {
     "data": {
      "text/plain": [
       "0"
      ]
     },
     "execution_count": 5,
     "metadata": {},
     "output_type": "execute_result"
    }
   ],
   "source": [
    "#check how many MFCCs don't have shape (20, 126)\n",
    "count = 0\n",
    "for i in [test_path, val_path, train_path]:\n",
    "    for j in os.listdir(train_path):\n",
    "        print(j)\n",
    "        data_path = os.path.join(i, j)\n",
    "        for k in os.listdir(data_path):\n",
    "            file = os.path.join(data_path, k)\n",
    "            mfcc = np.load(file)\n",
    "            if(mfcc.shape != (n_mfcc, n_dim)):\n",
    "                count += 1\n",
    "count"
   ]
  },
  {
   "cell_type": "code",
   "execution_count": 6,
   "id": "065bb682",
   "metadata": {},
   "outputs": [],
   "source": [
    "#initialize arrays for the features, we will have to drop the first entries later\n",
    "X_train = np.zeros(shape = (n_mfcc, n_dim))\n",
    "X_val = np.zeros(shape = (n_mfcc, n_dim))\n",
    "X_test = np.zeros(shape = (n_mfcc, n_dim))\n",
    "\n",
    "y_train = np.zeros(shape = (1))\n",
    "y_val = np.zeros(shape = (1))\n",
    "y_test = np.zeros(shape = (1))"
   ]
  },
  {
   "cell_type": "code",
   "execution_count": 7,
   "id": "753ca2f6",
   "metadata": {},
   "outputs": [
    {
     "ename": "KeyboardInterrupt",
     "evalue": "",
     "output_type": "error",
     "traceback": [
      "\u001b[1;31m---------------------------------------------------------------------------\u001b[0m",
      "\u001b[1;31mKeyboardInterrupt\u001b[0m                         Traceback (most recent call last)",
      "\u001b[1;32m~\\AppData\\Local\\Temp/ipykernel_23528/3303974119.py\u001b[0m in \u001b[0;36m<module>\u001b[1;34m\u001b[0m\n\u001b[0;32m      9\u001b[0m         \u001b[1;32mfor\u001b[0m \u001b[0mk\u001b[0m \u001b[1;32min\u001b[0m \u001b[0mos\u001b[0m\u001b[1;33m.\u001b[0m\u001b[0mlistdir\u001b[0m\u001b[1;33m(\u001b[0m\u001b[0mdata_path\u001b[0m\u001b[1;33m)\u001b[0m\u001b[1;33m:\u001b[0m\u001b[1;33m\u001b[0m\u001b[1;33m\u001b[0m\u001b[0m\n\u001b[0;32m     10\u001b[0m             \u001b[0mfile\u001b[0m \u001b[1;33m=\u001b[0m \u001b[0mos\u001b[0m\u001b[1;33m.\u001b[0m\u001b[0mpath\u001b[0m\u001b[1;33m.\u001b[0m\u001b[0mjoin\u001b[0m\u001b[1;33m(\u001b[0m\u001b[0mdata_path\u001b[0m\u001b[1;33m,\u001b[0m \u001b[0mk\u001b[0m\u001b[1;33m)\u001b[0m\u001b[1;33m\u001b[0m\u001b[1;33m\u001b[0m\u001b[0m\n\u001b[1;32m---> 11\u001b[1;33m             \u001b[0mmfcc\u001b[0m \u001b[1;33m=\u001b[0m \u001b[0mnp\u001b[0m\u001b[1;33m.\u001b[0m\u001b[0mload\u001b[0m\u001b[1;33m(\u001b[0m\u001b[0mfile\u001b[0m\u001b[1;33m)\u001b[0m\u001b[1;33m\u001b[0m\u001b[1;33m\u001b[0m\u001b[0m\n\u001b[0m\u001b[0;32m     12\u001b[0m \u001b[1;33m\u001b[0m\u001b[0m\n\u001b[0;32m     13\u001b[0m             \u001b[1;31m#append mfcc to train, validation, or test\u001b[0m\u001b[1;33m\u001b[0m\u001b[1;33m\u001b[0m\u001b[0m\n",
      "\u001b[1;32m~\\anaconda3\\lib\\site-packages\\numpy\\lib\\npyio.py\u001b[0m in \u001b[0;36mload\u001b[1;34m(file, mmap_mode, allow_pickle, fix_imports, encoding)\u001b[0m\n\u001b[0;32m    415\u001b[0m             \u001b[0mown_fid\u001b[0m \u001b[1;33m=\u001b[0m \u001b[1;32mFalse\u001b[0m\u001b[1;33m\u001b[0m\u001b[1;33m\u001b[0m\u001b[0m\n\u001b[0;32m    416\u001b[0m         \u001b[1;32melse\u001b[0m\u001b[1;33m:\u001b[0m\u001b[1;33m\u001b[0m\u001b[1;33m\u001b[0m\u001b[0m\n\u001b[1;32m--> 417\u001b[1;33m             \u001b[0mfid\u001b[0m \u001b[1;33m=\u001b[0m \u001b[0mstack\u001b[0m\u001b[1;33m.\u001b[0m\u001b[0menter_context\u001b[0m\u001b[1;33m(\u001b[0m\u001b[0mopen\u001b[0m\u001b[1;33m(\u001b[0m\u001b[0mos_fspath\u001b[0m\u001b[1;33m(\u001b[0m\u001b[0mfile\u001b[0m\u001b[1;33m)\u001b[0m\u001b[1;33m,\u001b[0m \u001b[1;34m\"rb\"\u001b[0m\u001b[1;33m)\u001b[0m\u001b[1;33m)\u001b[0m\u001b[1;33m\u001b[0m\u001b[1;33m\u001b[0m\u001b[0m\n\u001b[0m\u001b[0;32m    418\u001b[0m             \u001b[0mown_fid\u001b[0m \u001b[1;33m=\u001b[0m \u001b[1;32mTrue\u001b[0m\u001b[1;33m\u001b[0m\u001b[1;33m\u001b[0m\u001b[0m\n\u001b[0;32m    419\u001b[0m \u001b[1;33m\u001b[0m\u001b[0m\n",
      "\u001b[1;31mKeyboardInterrupt\u001b[0m: "
     ]
    }
   ],
   "source": [
    "#loop through train, validation, and test data\n",
    "for i in [train_path, val_path, test_path]:\n",
    "    \n",
    "    #loop through all the word directories\n",
    "    for j in keywords:\n",
    "        data_path = os.path.join(i, j)\n",
    "        \n",
    "        #load mfcc for each file in directory\n",
    "        for k in os.listdir(data_path):\n",
    "            file = os.path.join(data_path, k)\n",
    "            mfcc = np.load(file)\n",
    "            \n",
    "            #append mfcc to train, validation, or test\n",
    "            if (i == train_path):\n",
    "                X_train = np.append(X_train, mfcc, axis = 0)\n",
    "                y_train = np.append(y_train, j)\n",
    "                    \n",
    "            elif (i == test_path):\n",
    "                X_test = np.append(X_test, mfcc, axis = 0)\n",
    "                y_test = np.append(y_test, j)\n",
    "            elif (i == val_path):\n",
    "                X_val = np.append(X_val, mfcc, axis = 0)\n",
    "                y_val = np.append(y_val, j)\n",
    "                \n",
    "#drop the first n_mfcc entries because they're zeros from initialization\n",
    "X_train = X_train[n_mfcc:]                \n",
    "X_val = X_val[n_mfcc:]\n",
    "X_test = X_test[n_mfcc:]\n",
    "\n",
    "#drop the first entry because they're also zero from initialization\n",
    "y_train = y_train[1:]\n",
    "y_val = y_val[1:]\n",
    "y_test = y_test[1:]\n",
    "\n",
    "#get length of arrays in terms of mfcc size\n",
    "train_length = int(len(X_train) / n_mfcc)\n",
    "val_length = int(len(X_val) / n_mfcc)\n",
    "test_length = int(len(X_test) / n_mfcc)\n",
    "\n",
    "#reshape arrays to be (n, 20, 32) where n is number of samples in train, validation, or test\n",
    "X_train = np.reshape(X_train, newshape = (train_length, n_mfcc, n_dim))\n",
    "X_val = np.reshape(X_val, newshape = (val_length, n_mfcc, n_dim))\n",
    "X_test = np.reshape(X_test, newshape = (test_length, n_mfcc, n_dim))"
   ]
  },
  {
   "cell_type": "code",
   "execution_count": null,
   "id": "32f14cc1",
   "metadata": {},
   "outputs": [],
   "source": [
    "print(X_train.shape)\n",
    "print(y_train.shape)\n",
    "\n",
    "print(X_val.shape)\n",
    "print(y_val.shape)\n",
    "\n",
    "print(X_test.shape)\n",
    "print(y_test.shape)"
   ]
  },
  {
   "cell_type": "markdown",
   "id": "6bce8afd",
   "metadata": {},
   "source": [
    "These shapes correspond to the number of MFCCs generated previously and are ready to be put into a neural network."
   ]
  },
  {
   "cell_type": "code",
   "execution_count": 16,
   "id": "10bf0dee",
   "metadata": {},
   "outputs": [],
   "source": [
    "#save files\n",
    "cwd = os.getcwd()\n",
    "np.save(os.path.join(cwd, 'X_train_mfcc_sf_uq'), X_train)\n",
    "np.save(os.path.join(cwd, 'y_train'), y_train)\n",
    "np.save(os.path.join(cwd, 'X_val_mfcc_sf_uq'), X_val)\n",
    "np.save(os.path.join(cwd, 'y_val2'), y_val)\n",
    "np.save(os.path.join(cwd, 'X_test_mfcc_sf_uq'), X_test)\n",
    "np.save(os.path.join(cwd, 'y_test2'), y_test)"
   ]
  }
 ],
 "metadata": {
  "kernelspec": {
   "display_name": "Python 3 (ipykernel)",
   "language": "python",
   "name": "python3"
  },
  "language_info": {
   "codemirror_mode": {
    "name": "ipython",
    "version": 3
   },
   "file_extension": ".py",
   "mimetype": "text/x-python",
   "name": "python",
   "nbconvert_exporter": "python",
   "pygments_lexer": "ipython3",
   "version": "3.9.7"
  }
 },
 "nbformat": 4,
 "nbformat_minor": 5
}
