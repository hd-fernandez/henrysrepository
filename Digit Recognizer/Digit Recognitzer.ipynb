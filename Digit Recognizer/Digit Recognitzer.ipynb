{
 "cells": [
  {
   "cell_type": "markdown",
   "metadata": {},
   "source": [
    "# Digit Recognizer"
   ]
  },
  {
   "cell_type": "markdown",
   "metadata": {},
   "source": [
    "\n",
    "\n",
    "(1) Fitting a random forest classifier using the full set of 784 explanatory variables and the model training set (train.csv). Recording the time it takes to fit the model and then evaluate the model on the test.csv data\n",
    "\n",
    "(2) Executing principal components analysis (PCA) on the combined training and test set data together, generating principal components that represent 95 percent of the variability in the explanatory variables. Recording the time it takes to identify the principal components.\n",
    "\n",
    "(3) Using the identified principal components from step (2), use the train.csv to build another random forest classifier. Recording the time it takes to fit the model and to evaluate the model on the test.csv data \n",
    "\n",
    "\n",
    "(4) Using k-means clustering to group MNIST observations into 1 of 10 categories and then assign labels. \n",
    "\n",
    "\n",
    "Reporting total elapsed time measures for the training set analysis. "
   ]
  },
  {
   "cell_type": "code",
   "execution_count": 2,
   "metadata": {},
   "outputs": [],
   "source": [
    "# Ignore warnings\n",
    "import warnings\n",
    "warnings.filterwarnings(\"ignore\")"
   ]
  },
  {
   "cell_type": "code",
   "execution_count": 3,
   "metadata": {},
   "outputs": [],
   "source": [
    "%matplotlib inline\n",
    "\n",
    "# import base packages into the namespace for this program\n",
    "import matplotlib.pyplot as plt\n",
    "import numpy as np\n",
    "import time\n",
    "import os\n",
    "import subprocess\n",
    "import pandas as pd\n",
    "\n",
    "#SKlearn\n",
    "from sklearn.datasets import fetch_openml\n",
    "from sklearn.decomposition import PCA\n",
    "from sklearn.ensemble import RandomForestClassifier\n",
    "from sklearn.model_selection import cross_val_predict, cross_val_score\n",
    "from sklearn.metrics import confusion_matrix\n",
    "from sklearn.metrics import f1_score, classification_report"
   ]
  },
  {
   "cell_type": "code",
   "execution_count": 4,
   "metadata": {},
   "outputs": [],
   "source": [
    "# seed value for random number generators to obtain reproducible results\n",
    "RANDOM_SEED = 85"
   ]
  },
  {
   "cell_type": "code",
   "execution_count": 5,
   "metadata": {},
   "outputs": [],
   "source": [
    "from sklearn.datasets import fetch_openml\n",
    "mnist = fetch_openml('mnist_784', version=1, cache=True)\n",
    "# mnist"
   ]
  },
  {
   "cell_type": "code",
   "execution_count": 6,
   "metadata": {},
   "outputs": [],
   "source": [
    "# mnist = pd.read_csv(r\"C:\\Users\\hdfer\\OneDrive\\Desktop\\Henry\\Uchicago\\Quarter 3\\Machine Learning & Predictive Analytics\\Unsupervised Learning Assignment\\data\\train.csv\")"
   ]
  },
  {
   "cell_type": "markdown",
   "metadata": {},
   "source": [
    "##### Fitting a random forest classifier using the full set of 784 explanatory variables and the model training set (train.csv). Recording the time it takes to fit the model and then evaluate the model on the test.csv data"
   ]
  },
  {
   "cell_type": "code",
   "execution_count": 7,
   "metadata": {},
   "outputs": [],
   "source": [
    "#Split training data (60,000) and test data (10,000)\n",
    "split = 60000\n",
    "X_train, X_test = mnist[\"data\"][:split], mnist[\"data\"][split:]\n",
    "y_train, y_test = mnist[\"target\"][:split], mnist[\"target\"][split:]"
   ]
  },
  {
   "cell_type": "code",
   "execution_count": 8,
   "metadata": {},
   "outputs": [
    {
     "name": "stdout",
     "output_type": "stream",
     "text": [
      "Shape of X_train_data: (60000, 784) (10000, 784)\n",
      "Shape of y_train_data: (60000,) (10000,)\n"
     ]
    }
   ],
   "source": [
    "# Check the shape of the trainig data set array\n",
    "print('Shape of X_train_data:', X_train.shape, X_test.shape)\n",
    "print('Shape of y_train_data:', y_train.shape, y_test.shape)"
   ]
  },
  {
   "cell_type": "code",
   "execution_count": 9,
   "metadata": {},
   "outputs": [],
   "source": [
    "# Shuffle the training set so that all cross-validation folds will be similar.\n",
    "\n",
    "shuffle = np.random.permutation(split)\n",
    "X_train, y_train = X_train.iloc[shuffle], y_train[shuffle]"
   ]
  },
  {
   "cell_type": "code",
   "execution_count": 10,
   "metadata": {},
   "outputs": [
    {
     "name": "stdout",
     "output_type": "stream",
     "text": [
      "crossval score:  [0.94328771 0.94674126 0.94559927 0.94663835 0.94665671 0.94360587\n",
      " 0.94070418 0.94544587 0.94898774 0.94044584]\n",
      "classification report:                precision    recall  f1-score   support\n",
      "\n",
      "           0       0.93      0.97      0.95       980\n",
      "           1       0.94      0.98      0.96      1135\n",
      "           2       0.89      0.91      0.90      1032\n",
      "           3       0.85      0.90      0.87      1010\n",
      "           4       0.88      0.92      0.90       982\n",
      "           5       0.89      0.84      0.86       892\n",
      "           6       0.93      0.92      0.93       958\n",
      "           7       0.93      0.90      0.92      1028\n",
      "           8       0.91      0.83      0.87       974\n",
      "           9       0.90      0.85      0.87      1009\n",
      "\n",
      "    accuracy                           0.90     10000\n",
      "   macro avg       0.90      0.90      0.90     10000\n",
      "weighted avg       0.90      0.90      0.90     10000\n",
      "\n",
      "f1:  0.9027042584259733\n",
      "---------------------------------\n",
      "Runtime for Random Forest: 43.57890295982361\n"
     ]
    }
   ],
   "source": [
    "#RANDOM FOREST with MNIST data set (no PCA)\n",
    "start_RF = time.time() #Record start time of RANDOM FOREST Process\n",
    "\n",
    "RF_clf = RandomForestClassifier(\n",
    "  bootstrap = True,\n",
    "  n_estimators=10,\n",
    "  max_features='sqrt', \n",
    "  random_state=RANDOM_SEED\n",
    ")\n",
    "RF_clf.fit(X_train, y_train)\n",
    "\n",
    "\n",
    "# Evaluate a score of RANDOM FOREST by cross-validation\n",
    "print(\"crossval score: \", cross_val_score(\n",
    "  RF_clf, \n",
    "  X_train, y_train, \n",
    "  cv=10, \n",
    "  scoring='f1_macro'\n",
    "))\n",
    "\n",
    "\n",
    "\n",
    "#Generate cross-validated estimates for each input data point\n",
    "y_pred = cross_val_predict(\n",
    "  RF_clf,\n",
    "  X_test, y_test,\n",
    "  cv=10\n",
    ")\n",
    "\n",
    "# Show Precision, Recall and F1-Score\n",
    "print(\"classification report: \", classification_report(y_test, y_pred))\n",
    "\n",
    "\n",
    "# Calculate Average F1 Score\n",
    "f1score_RF_clf = f1_score(y_test, y_pred, average='macro')\n",
    "print(\"f1: \", f1score_RF_clf)\n",
    "\n",
    "\n",
    "\n",
    "#Elapsed Time to perform Random Forest\n",
    "stop_RF = time.time()\n",
    "time_RF = stop_RF - start_RF\n",
    "\n",
    "print(\"---------------------------------\")\n",
    "print('Runtime for Random Forest:', time_RF)"
   ]
  },
  {
   "cell_type": "code",
   "execution_count": 11,
   "metadata": {},
   "outputs": [
    {
     "data": {
      "text/plain": [
       "array([[ 955,    1,    0,    2,    0,    6,    8,    2,    6,    0],\n",
       "       [   0, 1117,    6,    2,    0,    2,    3,    0,    4,    1],\n",
       "       [  15,    3,  937,   13,   15,    4,   15,   15,   10,    5],\n",
       "       [   3,    6,   28,  905,    1,   23,    3,    8,   25,    8],\n",
       "       [   3,    3,    7,    5,  905,    3,    9,    2,    6,   39],\n",
       "       [  16,    8,    5,   69,    8,  745,   11,    6,   13,   11],\n",
       "       [  16,    6,   13,    5,   10,   17,  882,    1,    8,    0],\n",
       "       [   5,   16,   25,    7,   17,    2,    1,  927,    2,   26],\n",
       "       [   5,   18,   27,   39,   13,   25,   14,   12,  811,   10],\n",
       "       [  11,    8,    9,   17,   58,   13,    1,   22,   11,  859]],\n",
       "      dtype=int64)"
      ]
     },
     "execution_count": 11,
     "metadata": {},
     "output_type": "execute_result"
    }
   ],
   "source": [
    "#Confusion Matrix for RANDOM FOREST with MNIST data set (no PCA)\n",
    "cm_RF_clf = confusion_matrix(y_test, y_pred)\n",
    "cm_RF_clf"
   ]
  },
  {
   "cell_type": "code",
   "execution_count": 12,
   "metadata": {},
   "outputs": [
    {
     "data": {
      "image/png": "[encoded data removed]",
      "text/plain": [
       "<Figure size 288x288 with 1 Axes>"
      ]
     },
     "metadata": {
      "needs_background": "light"
     },
     "output_type": "display_data"
    }
   ],
   "source": [
    "# Confusion Matrix Plot for RANDOM FOREST with MNIST data set (no PCA)\n",
    "plt.matshow(cm_RF_clf, cmap=plt.cm.gray)\n",
    "plt.title('ConfusionMatrix_RF_Clf')\n",
    "plt.show()"
   ]
  },
  {
   "cell_type": "code",
   "execution_count": 12,
   "metadata": {},
   "outputs": [
    {
     "data": {
      "image/png": "[encoded data removed]",
      "text/plain": [
       "<Figure size 288x288 with 1 Axes>"
      ]
     },
     "metadata": {
      "needs_background": "light"
     },
     "output_type": "display_data"
    }
   ],
   "source": [
    "# Error Plot for RANDOM FOREST with MNIST data set (no PCA) \n",
    "rws = cm_RF_clf.sum(axis=1, keepdims=True)\n",
    "norm = cm_RF_clf / rws\n",
    "\n",
    "np.fill_diagonal(norm, 0)\n",
    "plt.matshow(norm, cmap=plt.cm.gray)\n",
    "plt.title('Error_Matrix_RF_Clf')\n",
    "plt.show()"
   ]
  },
  {
   "cell_type": "markdown",
   "metadata": {},
   "source": [
    "##### Executing principal components analysis (PCA) on the combined training and test set data together, generating principal components that represent 95 percent of the variability in the explanatory variables. Recording the time it takes to identify the principal components."
   ]
  },
  {
   "cell_type": "code",
   "execution_count": 13,
   "metadata": {},
   "outputs": [
    {
     "name": "stdout",
     "output_type": "stream",
     "text": [
      "PCA Time:  2.5932722091674805\n",
      "154\n"
     ]
    }
   ],
   "source": [
    "# PRINCIPAL COMPONENT ANALYSIS: 95% of variablity\n",
    "\n",
    "start_pca = time.time()\n",
    "pca = PCA()\n",
    "pca.fit(X_train)\n",
    "cumsum = np.cumsum(pca.explained_variance_ratio_)\n",
    "d = np.argmax(cumsum >= 0.95) + 1\n",
    "\n",
    " #Ok it takes about 155 components to represent 95% variance\n",
    "\n",
    "end_pca = time.time()\n",
    "pca_time = end_pca - start_pca\n",
    "print(\"PCA Time: \", pca_time)\n",
    "print(d)\n",
    "#print(cumsum)"
   ]
  },
  {
   "cell_type": "code",
   "execution_count": 14,
   "metadata": {},
   "outputs": [
    {
     "data": {
      "image/png": "[encoded data removed]",
      "text/plain": [
       "<Figure size 432x288 with 1 Axes>"
      ]
     },
     "metadata": {
      "needs_background": "light"
     },
     "output_type": "display_data"
    }
   ],
   "source": [
    "plt.figure(figsize=(6,4))\n",
    "plt.plot(cumsum, linewidth=3)\n",
    "plt.axis([0, 400, 0, 1])\n",
    "plt.xlabel(\"Dimensions\")\n",
    "plt.ylabel(\"Explained Variance\")\n",
    "plt.plot([d, d], [0, 0.95], \"k:\")\n",
    "plt.plot([0, d], [0.95, 0.95], \"k:\")\n",
    "plt.plot(d, 0.95, \"ko\")\n",
    "plt.annotate(\"Elbow\", xy=(65, 0.85), xytext=(70, 0.7),\n",
    "             arrowprops=dict(arrowstyle=\"->\"), fontsize=16)\n",
    "plt.grid(True)\n",
    "plt.show()"
   ]
  },
  {
   "cell_type": "code",
   "execution_count": 15,
   "metadata": {},
   "outputs": [
    {
     "name": "stdout",
     "output_type": "stream",
     "text": [
      "pca n_components:  154\n"
     ]
    }
   ],
   "source": [
    "#APPLY PCA TRANSFORMATIONS\n",
    "\n",
    "pca = PCA(n_components=0.95)\n",
    "\n",
    "\n",
    "X_reduced = pca.fit_transform(X_train)\n",
    "X_recovered = pca.inverse_transform(X_reduced)\n",
    "X_reduced_pca = X_reduced\n",
    "\n",
    "print('pca n_components: ', pca.n_components_)\n",
    "np.sum(pca.explained_variance_ratio_)\n",
    "\n",
    "\n",
    "X_reduced_test = pca.fit_transform(X_test)\n",
    "X_reduced_pca_test = X_reduced_test"
   ]
  },
  {
   "cell_type": "markdown",
   "metadata": {},
   "source": [
    "##### Using the identified principal components from step (2), use the train.csv to build another random forest classifier. Recording the time it takes to fit the model and to evaluate the model on the test.csv data \n"
   ]
  },
  {
   "cell_type": "code",
   "execution_count": 16,
   "metadata": {},
   "outputs": [
    {
     "name": "stdout",
     "output_type": "stream",
     "text": [
      "crossval score:  [0.88355535 0.88536463 0.89098446 0.89044228 0.88970069 0.8888803\n",
      " 0.87966523 0.88238962 0.89053846 0.89042327]\n",
      "classification report:                precision    recall  f1-score   support\n",
      "\n",
      "           0       0.79      0.91      0.84       980\n",
      "           1       0.93      0.98      0.95      1135\n",
      "           2       0.74      0.81      0.77      1032\n",
      "           3       0.73      0.77      0.75      1010\n",
      "           4       0.77      0.82      0.80       982\n",
      "           5       0.72      0.65      0.68       892\n",
      "           6       0.90      0.85      0.87       958\n",
      "           7       0.86      0.84      0.85      1028\n",
      "           8       0.78      0.66      0.71       974\n",
      "           9       0.83      0.72      0.77      1009\n",
      "\n",
      "    accuracy                           0.81     10000\n",
      "   macro avg       0.80      0.80      0.80     10000\n",
      "weighted avg       0.81      0.81      0.80     10000\n",
      "\n",
      "f1:  0.800682813613046\n",
      "-------------------------------------\n",
      "time:  92.25414514541626\n"
     ]
    }
   ],
   "source": [
    "# RANDOM FOREST on Dimension Reduced Data (PCA:95% variability)\n",
    "\n",
    "pca_clf_start = time.time()\n",
    "\n",
    "pca_RF_clf = RandomForestClassifier(\n",
    "  bootstrap = True,\n",
    "  n_estimators=10,\n",
    "  max_features='sqrt', \n",
    "  random_state=RANDOM_SEED\n",
    ")\n",
    "\n",
    "pca_RF_clf.fit(X_reduced_pca, y_train)\n",
    "\n",
    "\n",
    "print(\"crossval score: \", cross_val_score(\n",
    "  pca_RF_clf, \n",
    "  X_reduced_pca, y_train, \n",
    "  cv=10, \n",
    "  scoring='f1_macro'\n",
    "))\n",
    "\n",
    "\n",
    "y_pred_pca = cross_val_predict(\n",
    "  pca_RF_clf,\n",
    "  X_reduced_pca_test, y_test,\n",
    "  cv=10\n",
    ")\n",
    "\n",
    "# Precision, Recall and F1-Score\n",
    "\n",
    "print(\"classification report: \", classification_report(y_test, y_pred_pca))\n",
    "\n",
    "\n",
    "f1score_pca_RF_clf = f1_score(y_test, y_pred_pca, average='macro')\n",
    "print(\"f1: \", f1score_pca_RF_clf)\n",
    "\n",
    "print(\"-------------------------------------\")\n",
    "pca_clf_end = time.time()\n",
    "pca_clf_time = pca_clf_end - pca_clf_start\n",
    "print(\"time: \", pca_clf_time)"
   ]
  },
  {
   "cell_type": "markdown",
   "metadata": {},
   "source": [
    "##### Comparing test set performance across the two modeling approaches: original 784-variable model versus the 95-percent-PCA model. Also evaluate the time required to perform (1) versus the time required to perform (2) and (3) together. Ensuring that accurate measures are made of the total time it takes to execute each of the modeling approaches in training the models. "
   ]
  },
  {
   "cell_type": "markdown",
   "metadata": {
    "collapsed": true
   },
   "source": [
    "### Comparing Test Set Performances:\n",
    "The original, 784-variable model performs better on the test set than the pca-model. the original model performs at around 90% accuracy whereas the pca model performs closer to 80-81% accuracy, this is a considerable drop off in performance.\n",
    "\n",
    "### Comparing Performance Times:\n",
    "The original model is fit, run and evaluated in approximately 15 seconds. As for the pca model, despite the fact that it is using far less features, the amount of time it takes to perform the pca, find the number of components, and run and evaluate the model takes far long at approximately 42 seconds. Despite being 3 cells longer, the pca code is run all at once to ensure that no time is lost when starting/stopping each cell. \n",
    "\n",
    "\n"
   ]
  },
  {
   "cell_type": "markdown",
   "metadata": {},
   "source": [
    "##### (5) Use k-means clustering to group MNIST observations into 1 of 10 categories and then assigninglabels. "
   ]
  },
  {
   "cell_type": "code",
   "execution_count": 23,
   "metadata": {},
   "outputs": [
    {
     "data": {
      "image/png": "[encoded data removed]",
      "text/plain": [
       "<Figure size 432x288 with 1 Axes>"
      ]
     },
     "metadata": {
      "needs_background": "light"
     },
     "output_type": "display_data"
    }
   ],
   "source": [
    "from sklearn.cluster import KMeans\n",
    "wcss = []\n",
    "\n",
    "for i in range(1, 30):\n",
    "    kmeans = KMeans(n_clusters = i, init = 'k-means++',\n",
    "                    max_iter = 400, n_init = 10, random_state = 0)\n",
    "    kmeans.fit(X_train)\n",
    "    wcss.append(kmeans.inertia_)\n",
    "    \n",
    "#Plotting the results onto a line graph to observe 'The elbow'\n",
    "plt.plot(range(1, 30), wcss)\n",
    "plt.title('Elbow Method')\n",
    "plt.xlabel('Association')\n",
    "plt.ylabel('WCSS') #within cluster sum of squares\n",
    "plt.show()"
   ]
  },
  {
   "cell_type": "code",
   "execution_count": 92,
   "metadata": {},
   "outputs": [
    {
     "name": "stdout",
     "output_type": "stream",
     "text": [
      "Downloading data from https://storage.googleapis.com/tensorflow/tf-keras-datasets/mnist.npz\n",
      "11493376/11490434 [==============================] - 3s 0us/step\n",
      "11501568/11490434 [==============================] - 3s 0us/step\n"
     ]
    }
   ],
   "source": [
    "from keras.datasets import mnist\n",
    "\n",
    "(x_train, y_train), (x_test, y_test) = mnist.load_data()"
   ]
  },
  {
   "cell_type": "code",
   "execution_count": 95,
   "metadata": {},
   "outputs": [
    {
     "name": "stdout",
     "output_type": "stream",
     "text": [
      "(60000, 784)\n",
      "(10000, 784)\n"
     ]
    }
   ],
   "source": [
    "x_train = X_train.astype('float32') \n",
    "x_test = X_test.astype('float32')\n",
    "# Normalization\n",
    "x_train = x_train/255.0\n",
    "x_test = x_test/255.0\n",
    "\n",
    "X_train = x_train.reshape(len(x_train),-1)\n",
    "X_test = x_test.reshape(len(x_test),-1)\n",
    "\n",
    "print(X_train.shape)\n",
    "print(X_test.shape)"
   ]
  },
  {
   "cell_type": "code",
   "execution_count": 96,
   "metadata": {},
   "outputs": [
    {
     "data": {
      "text/plain": [
       "MiniBatchKMeans(n_clusters=10)"
      ]
     },
     "execution_count": 96,
     "metadata": {},
     "output_type": "execute_result"
    }
   ],
   "source": [
    "from sklearn.cluster import MiniBatchKMeans\n",
    "total_clusters = len(np.unique(y_test))\n",
    "# Initialize the K-Means model\n",
    "kmeans = MiniBatchKMeans(n_clusters = total_clusters)\n",
    "# Fitting the model to training set\n",
    "kmeans.fit(X_train)"
   ]
  },
  {
   "cell_type": "code",
   "execution_count": 97,
   "metadata": {},
   "outputs": [
    {
     "data": {
      "text/plain": [
       "MiniBatchKMeans(n_clusters=10)"
      ]
     },
     "execution_count": 97,
     "metadata": {},
     "output_type": "execute_result"
    }
   ],
   "source": [
    "from sklearn.cluster import MiniBatchKMeans\n",
    "total_clusters = len(np.unique(y_test))\n",
    "# Initialize the K-Means model\n",
    "kmeans = MiniBatchKMeans(n_clusters = total_clusters)\n",
    "# Fitting the model to training set\n",
    "kmeans.fit(X_train)\n"
   ]
  },
  {
   "cell_type": "code",
   "execution_count": 98,
   "metadata": {},
   "outputs": [
    {
     "data": {
      "text/plain": [
       "array([2, 7, 0, ..., 4, 5, 3])"
      ]
     },
     "execution_count": 98,
     "metadata": {},
     "output_type": "execute_result"
    }
   ],
   "source": [
    "kmeans.labels_"
   ]
  },
  {
   "cell_type": "code",
   "execution_count": 99,
   "metadata": {},
   "outputs": [],
   "source": [
    "def retrieve_info(cluster_labels,y_train):\n",
    "\n",
    "# Initializing\n",
    "    reference_labels = {}\n",
    "# For loop to run through each label of cluster label\n",
    "    for i in range(len(np.unique(kmeans.labels_))):\n",
    "        index = np.where(cluster_labels == i,1,0)\n",
    "        num = np.bincount(y_train[index==1]).argmax()\n",
    "        reference_labels[i] = num\n",
    "    return reference_labels"
   ]
  },
  {
   "cell_type": "code",
   "execution_count": 100,
   "metadata": {},
   "outputs": [],
   "source": [
    "reference_labels = retrieve_info(kmeans.labels_,y_train)\n",
    "number_labels = np.random.rand(len(kmeans.labels_))\n",
    "for i in range(len(kmeans.labels_)):\n",
    "    number_labels[i] = reference_labels[kmeans.labels_[i]]"
   ]
  },
  {
   "cell_type": "code",
   "execution_count": 101,
   "metadata": {},
   "outputs": [
    {
     "name": "stdout",
     "output_type": "stream",
     "text": [
      "[3. 0. 4. 1. 9. 6. 1. 3. 1. 8. 3. 1. 3. 6. 1. 8. 6. 8. 1. 8.]\n"
     ]
    }
   ],
   "source": [
    "print(number_labels[:20])"
   ]
  },
  {
   "cell_type": "code",
   "execution_count": 102,
   "metadata": {
    "scrolled": false
   },
   "outputs": [
    {
     "name": "stdout",
     "output_type": "stream",
     "text": [
      "[5 0 4 1 9 2 1 3 1 4 3 5 3 6 1 7 2 8 6 9]\n"
     ]
    }
   ],
   "source": [
    "print(y_train[:20])"
   ]
  },
  {
   "cell_type": "code",
   "execution_count": 103,
   "metadata": {},
   "outputs": [
    {
     "name": "stdout",
     "output_type": "stream",
     "text": [
      "0.49995\n"
     ]
    }
   ],
   "source": [
    "# Calculating accuracy score\n",
    "from sklearn.metrics import accuracy_score\n",
    "print(accuracy_score(number_labels,y_train))"
   ]
  },
  {
   "cell_type": "markdown",
   "metadata": {},
   "source": [
    "Management Problem:\n",
    "From a management perspective, the predictive accuracy of models must be weighed against the costs of model development and implementation. Suppose you were the manager of a data science team responsible for implementing models for computer vision (classification of images analogous to the MINST problem). Would you recommend using PCA as a preliminary to machine learning classification? Explain your thinking.\n",
    "\n",
    "\n",
    "#### REPORT/FINDINGS: \n",
    "(1) A summary and problem definition for management; \n",
    "\n",
    "- Quality and accuracy of data results are of paramount importance for any analytics team. However, time is a valuable and sometimes costly resource as is computing power. The task at hand as is to create two multiclass random forest classifiers on the MNIST data set. One classifier being the MNIST data set without pre-processing and 700+ features, and the other being the same dataset with only the principal components included. In this experiment we are assessing the classifier's accuracy as well as the time it takes for each one to complete the task. \n",
    "\n",
    "\n",
    "(2) Discussion of the research design, measurement and statistical methods, traditional and machine learning methods employed \n",
    "\n",
    "- For the first, original model. The training set is shuffled and a Random Forest classifier is fit on the 60,000 of the 70000 data points. Using CV = 10, we calculate the precision, recall, f1-score, and support as well as the average F1 Score. We start the run-time before the model is fit and end it after the results have printed. As for the PCA section, the same process is kept, however we first we calculate how many principal components will account for 95% of the variance, then we apply the fit_transform to the training set with the new reduced dataset. Run time is calculated in the same way. Then for K-means, despite being instructed to already use 10 clusters, I conducted the elobw method just for good practice. I clustered the mnist data set and compared the predicted labels to the actual labels. It was about 50% accuracy, not good at all. \n",
    "\n",
    "\n",
    "(3) Review of results with recommendations for management.\n",
    "\n",
    "- Although incorporating PCA to reduce the large amount of features to promote model simplicity and improved run time seemed like a strong idea initially, the case is that the original (non-pca model) performs much better than the PCA model on top of running faster than the PCA model. It is my recommendation to management that, when working with the MNIST dataset, a random forest mutliclass classifier on the original model is the best way to proceed. "
   ]
  }
 ],
 "metadata": {
  "kernelspec": {
   "display_name": "Python 3 (ipykernel)",
   "language": "python",
   "name": "python3"
  },
  "language_info": {
   "codemirror_mode": {
    "name": "ipython",
    "version": 3
   },
   "file_extension": ".py",
   "mimetype": "text/x-python",
   "name": "python",
   "nbconvert_exporter": "python",
   "pygments_lexer": "ipython3",
   "version": "3.9.7"
  }
 },
 "nbformat": 4,
 "nbformat_minor": 2
}
